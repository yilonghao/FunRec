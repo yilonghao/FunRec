{
 "cells": [
  {
   "cell_type": "markdown",
   "id": "4d37e0c6",
   "metadata": {
    "toc": true
   },
   "source": [
    "<h1>Table of Contents<span class=\"tocSkip\"></span></h1>\n",
    "<div class=\"toc\"><ul class=\"toc-item\"><li><span><a href=\"#正则表达式\" data-toc-modified-id=\"正则表达式-1\"><span class=\"toc-item-num\">1&nbsp;&nbsp;</span>正则表达式</a></span><ul class=\"toc-item\"><li><span><a href=\"#统计一个字符串中汉字的个数\" data-toc-modified-id=\"统计一个字符串中汉字的个数-1.1\"><span class=\"toc-item-num\">1.1&nbsp;&nbsp;</span>统计一个字符串中汉字的个数</a></span></li></ul></li></ul></div>"
   ]
  },
  {
   "cell_type": "markdown",
   "id": "651fbe4c",
   "metadata": {},
   "source": [
    "## 正则表达式"
   ]
  },
  {
   "cell_type": "markdown",
   "id": "b574b29e",
   "metadata": {},
   "source": [
    "### 统计一个字符串中汉字的个数\n",
    "\n",
    "在下述代码中：\n",
    "\n",
    "1. `re.findall(r'[\\u4e00-\\u9fff]', s)` 使用正则表达式匹配字符串 `s` 中的所有汉字。\n",
    "2. `len(chinese_characters)` 返回匹配到的汉字列表的长度，也就是字符串中汉字的个数。"
   ]
  },
  {
   "cell_type": "code",
   "execution_count": 2,
   "id": "aa14d4a9",
   "metadata": {},
   "outputs": [
    {
     "name": "stdout",
     "output_type": "stream",
     "text": [
      "按汉字计算的字符串长度是: 18\n"
     ]
    }
   ],
   "source": [
    "import re\n",
    "\n",
    "\n",
    "def length_by_chinese_characters(s):\n",
    "    # 使用正则表达式匹配所有汉字\n",
    "    # chinese_characters = re.findall(ur'[\\u4e00-\\u9fff]', s)  # python2\n",
    "    chinese_characters = re.findall(r'[\\u4e00-\\u9fff]', s)\n",
    "    return len(chinese_characters)\n",
    "\n",
    "\n",
    "# 示例字符串\n",
    "text = \"这是一个示例字符串，包含汉字和英文字符。\"\n",
    "result = length_by_chinese_characters(text)\n",
    "print(f\"按汉字计算的字符串长度是: {result}\")"
   ]
  }
 ],
 "metadata": {
  "kernelspec": {
   "display_name": "Python 3 (ipykernel)",
   "language": "python",
   "name": "python3"
  },
  "language_info": {
   "codemirror_mode": {
    "name": "ipython",
    "version": 3
   },
   "file_extension": ".py",
   "mimetype": "text/x-python",
   "name": "python",
   "nbconvert_exporter": "python",
   "pygments_lexer": "ipython3",
   "version": "3.9.6"
  },
  "toc": {
   "base_numbering": 1,
   "nav_menu": {},
   "number_sections": true,
   "sideBar": true,
   "skip_h1_title": false,
   "title_cell": "Table of Contents",
   "title_sidebar": "Contents",
   "toc_cell": true,
   "toc_position": {},
   "toc_section_display": true,
   "toc_window_display": false
  }
 },
 "nbformat": 4,
 "nbformat_minor": 5
}
